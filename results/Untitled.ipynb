{
 "cells": [
  {
   "cell_type": "code",
   "execution_count": 1,
   "id": "f2376834-336b-4eac-9ad7-349b02d01a97",
   "metadata": {},
   "outputs": [
    {
     "data": {
      "text/plain": [
       "2"
      ]
     },
     "execution_count": 1,
     "metadata": {},
     "output_type": "execute_result"
    }
   ],
   "source": [
    "1+1"
   ]
  },
  {
   "cell_type": "code",
   "execution_count": 5,
   "id": "ae427e31-9d98-45cf-837b-656ba2ff55f6",
   "metadata": {},
   "outputs": [],
   "source": [
    "import pandas as pd\n",
    "file_path = './startups'\n",
    "\n",
    "df = pd.read_csv(f'{file_path}_with_more_inf_14.csv')\n",
    "# # Enregistrer dans un fichier Excel\n",
    "df.to_excel(f'{file_path}_with_more_inf_14.xlsx', index=False, engine='openpyxl')"
   ]
  },
  {
   "cell_type": "code",
   "execution_count": null,
   "id": "7bc2edec-24b6-4476-a5ac-b5c78adfdd7b",
   "metadata": {},
   "outputs": [],
   "source": []
  }
 ],
 "metadata": {
  "kernelspec": {
   "display_name": "Python 3 (ipykernel)",
   "language": "python",
   "name": "python3"
  },
  "language_info": {
   "codemirror_mode": {
    "name": "ipython",
    "version": 3
   },
   "file_extension": ".py",
   "mimetype": "text/x-python",
   "name": "python",
   "nbconvert_exporter": "python",
   "pygments_lexer": "ipython3",
   "version": "3.12.4"
  }
 },
 "nbformat": 4,
 "nbformat_minor": 5
}
